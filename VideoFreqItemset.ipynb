{
 "cells": [
  {
   "cell_type": "code",
   "execution_count": 24,
   "metadata": {
    "collapsed": false
   },
   "outputs": [
    {
     "name": "stdout",
     "output_type": "stream",
     "text": [
      "stopwords count  891111\n",
      "words count  1689327\n"
     ]
    }
   ],
   "source": [
    "import pandas as pd\n",
    "import urllib2\n",
    "import time\n",
    "import Orange\n",
    "import re\n",
    "    \n",
    "videoTags = pd.read_json(\"video_tags.json\", orient=\"index\")\n",
    "\n",
    "lenVideoTags = len(pd.read_json(\"video_tags.json\"))\n",
    "\n",
    "textFileSentences = open(\"videosentences.basket\", \"w\")\n",
    "stopWords = [\"a\", \"about\", \"above\", \"after\", \"again\", \"against\", \"all\", \"am\", \"an\", \"and\", \"any\", \"are\", \"aren't\", \"as\", \"at\", \"be\", \"because\", \"been\", \"before\", \"being\", \"below\", \"between\", \"both\", \"but\", \"by\", \"can't\", \"cannot\", \"could\", \"couldn't\", \"did\", \"didn't\", \"do\", \"does\", \"doesn't\", \"doing\", \"don't\", \"down\", \"during\", \"each\", \"few\", \"for\", \"from\", \"further\", \"had\", \"hadn't\", \"has\", \"hasn't\", \"have\", \"haven't\", \"having\", \"he\", \"he'd\", \"he'll\", \"he's\", \"her\", \"here\", \"here's\", \"hers\", \"herself\", \"him\", \"himself\", \"his\", \"how\", \"how's\", \"i\", \"i'd\", \"i'll\", \"i'm\", \"i've\", \"if\", \"in\", \"into\", \"is\", \"isn't\", \"it\", \"it's\", \"its\", \"itself\", \"let's\", \"me\", \"more\", \"most\", \"mustn't\", \"my\", \"myself\", \"no\", \"nor\", \"not\", \"of\", \"off\", \"on\", \"once\", \"only\", \"or\", \"other\", \"ought\", \"our\", \"ours\", \"ourselves\", \"out\", \"over\", \"own\", \"same\", \"shan't\", \"she\", \"she'd\", \"she'll\", \"she's\", \"should\", \"shouldn't\", \"so\", \"some\", \"such\", \"than\", \"that\", \"that's\", \"the\", \"their\", \"theirs\", \"them\", \"themselves\", \"then\", \"there\", \"there's\", \"these\", \"they\", \"they'd\", \"they'll\", \"they're\", \"they've\", \"this\", \"those\", \"through\", \"to\", \"too\", \"under\", \"until\", \"up\", \"very\", \"was\", \"wasn't\", \"we\", \"we'd\", \"we'll\", \"we're\", \"we've\", \"were\", \"weren't\", \"what\", \"what's\", \"when\", \"when's\", \"where\", \"where's\", \"which\", \"while\", \"who\", \"who's\", \"whom\", \"why\", \"why's\", \"with\", \"won't\", \"would\", \"wouldn't\", \"you\", \"you'd\", \"you'll\", \"you're\", \"you've\", \"your\", \"yours\", \"yourself\", \"yourselves\"]\n",
    "\n",
    "stopWordsCount = 0 \n",
    "wordsCount = 0\n",
    "for i in range(lenVideoTags):\n",
    "# for i in range(5):\n",
    "    videoSentences = videoTags[i][\"videos\"][\"sentences\"]\n",
    "    for sentence in videoSentences:\n",
    "        if sentence is not None:\n",
    "            sentenceRegex = re.findall(r\"(?i)\\b[a-z]+\\b\", sentence)\n",
    "            for word in sentenceRegex:\n",
    "                remainingLetters = [\"s\", \"ve\", \"t\", \"m\", \"re\", \"don\"]\n",
    "                if (word.lower()  not in stopWords) and (word.lower()  not in remainingLetters):\n",
    "                    textFileSentences.write(word)\n",
    "                    textFileSentences.write(\", \")\n",
    "                else:\n",
    "    #                 print \"stopWord: \", word\n",
    "                    stopWordsCount = stopWordsCount + 1\n",
    "                wordsCount = wordsCount + 1\n",
    "            textFileSentences.write(\"\\n\")\n",
    "    \n",
    "print \"stopwords count \", stopWordsCount\n",
    "print \"words count \", wordsCount\n",
    "textFileSentences.close()\n",
    "\n"
   ]
  },
  {
   "cell_type": "code",
   "execution_count": 33,
   "metadata": {
    "collapsed": false
   },
   "outputs": [
    {
     "name": "stdout",
     "output_type": "stream",
     "text": [
      "Supp Conf  Rule\n",
      "0.007 0.268 see -> can\n",
      "0.007 0.116 can -> see\n"
     ]
    },
    {
     "data": {
      "text/plain": [
       "<see -> can, can -> see>"
      ]
     },
     "execution_count": 33,
     "metadata": {},
     "output_type": "execute_result"
    }
   ],
   "source": [
    "data = Orange.data.Table(\"videosentences.basket\")\n",
    "\n",
    "rules = Orange.associate.AssociationRulesSparseInducer(data, support=0.007)\n",
    "print \"%4s %4s  %s\" % (\"Supp\", \"Conf\", \"Rule\")\n",
    "for r in rules:\n",
    "    print \"%5.3f %5.3f %s\" % (r.support, r.confidence, r)\n",
    "rules"
   ]
  },
  {
   "cell_type": "code",
   "execution_count": 16,
   "metadata": {
    "collapsed": false
   },
   "outputs": [
    {
     "name": "stdout",
     "output_type": "stream",
     "text": [
      "stopwords count  849600\n",
      "words count  1645973\n"
     ]
    }
   ],
   "source": [
    "import pandas as pd\n",
    "import urllib2\n",
    "import time\n",
    "import Orange\n",
    "import re\n",
    "    \n",
    "videoTags = pd.read_json(\"video_tags.json\", orient=\"index\")\n",
    "\n",
    "lenVideoTags = len(pd.read_json(\"video_tags.json\"))\n",
    "\n",
    "textFileWords = open(\"videowords.basket\", \"w\")\n",
    "stopWords = [\"a\", \"about\", \"above\", \"after\", \"again\", \"against\", \"all\", \"am\", \"an\", \"and\", \"any\", \"are\", \"aren't\", \"as\", \"at\", \"be\", \"because\", \"been\", \"before\", \"being\", \"below\", \"between\", \"both\", \"but\", \"by\", \"can't\", \"cannot\", \"could\", \"couldn't\", \"did\", \"didn't\", \"do\", \"does\", \"doesn't\", \"doing\", \"don't\", \"down\", \"during\", \"each\", \"few\", \"for\", \"from\", \"further\", \"had\", \"hadn't\", \"has\", \"hasn't\", \"have\", \"haven't\", \"having\", \"he\", \"he'd\", \"he'll\", \"he's\", \"her\", \"here\", \"here's\", \"hers\", \"herself\", \"him\", \"himself\", \"his\", \"how\", \"how's\", \"i\", \"i'd\", \"i'll\", \"i'm\", \"i've\", \"if\", \"in\", \"into\", \"is\", \"isn't\", \"it\", \"it's\", \"its\", \"itself\", \"let's\", \"me\", \"more\", \"most\", \"mustn't\", \"my\", \"myself\", \"no\", \"nor\", \"not\", \"of\", \"off\", \"on\", \"once\", \"only\", \"or\", \"other\", \"ought\", \"our\", \"ours\", \"ourselves\", \"out\", \"over\", \"own\", \"same\", \"shan't\", \"she\", \"she'd\", \"she'll\", \"she's\", \"should\", \"shouldn't\", \"so\", \"some\", \"such\", \"than\", \"that\", \"that's\", \"the\", \"their\", \"theirs\", \"them\", \"themselves\", \"then\", \"there\", \"there's\", \"these\", \"they\", \"they'd\", \"they'll\", \"they're\", \"they've\", \"this\", \"those\", \"through\", \"to\", \"too\", \"under\", \"until\", \"up\", \"very\", \"was\", \"wasn't\", \"we\", \"we'd\", \"we'll\", \"we're\", \"we've\", \"were\", \"weren't\", \"what\", \"what's\", \"when\", \"when's\", \"where\", \"where's\", \"which\", \"while\", \"who\", \"who's\", \"whom\", \"why\", \"why's\", \"with\", \"won't\", \"would\", \"wouldn't\", \"you\", \"you'd\", \"you'll\", \"you're\", \"you've\", \"your\", \"yours\", \"yourself\", \"yourselves\"]\n",
    "stopWordsCount = 0 \n",
    "wordsCount = 0\n",
    "for i in range(lenVideoTags):\n",
    "# for i in range(5):\n",
    "    videoWords = videoTags[i][\"videos\"][\"wordList\"]\n",
    "    if len(videoWords) > 0:\n",
    "        for word in videoWords:\n",
    "            if word is not None:\n",
    "                if (word.lower() not in stopWords):\n",
    "                    textFileWords.write(word)\n",
    "                    textFileWords.write(\", \")\n",
    "                else:\n",
    "                    stopWordsCount = stopWordsCount + 1\n",
    "\n",
    "            wordsCount = wordsCount + 1\n",
    "        textFileWords.write(\"\\n\")\n",
    "    \n",
    "print \"stopwords count \", stopWordsCount\n",
    "print \"words count \", wordsCount\n",
    "textFileWords.close()"
   ]
  },
  {
   "cell_type": "code",
   "execution_count": 17,
   "metadata": {
    "collapsed": false
   },
   "outputs": [
    {
     "name": "stdout",
     "output_type": "stream",
     "text": [
      "Supp Conf  Rule\n",
      "0.210 0.827 make -> can\n",
      "0.210 0.594 can -> make\n",
      "0.215 0.679 one -> time\n",
      "0.215 0.729 time -> one\n",
      "0.216 0.682 one -> get\n",
      "0.216 0.730 get -> one\n",
      "0.239 0.752 one -> just\n",
      "0.239 0.723 just -> one\n",
      "0.208 0.656 one -> just can\n",
      "0.208 0.872 one just -> can\n",
      "0.208 0.840 one can -> just\n",
      "0.208 0.630 just -> one can\n",
      "0.208 0.828 just can -> one\n",
      "0.208 0.589 can -> one just\n",
      "0.214 0.676 one -> just like\n",
      "0.214 0.898 one just -> like\n",
      "0.214 0.867 one like -> just\n",
      "0.214 0.650 just -> one like\n",
      "0.214 0.830 just like -> one\n",
      "0.214 0.632 like -> one just\n",
      "0.248 0.781 one -> can\n",
      "0.248 0.701 can -> one\n",
      "0.216 0.681 one -> can like\n",
      "0.216 0.873 one can -> like\n",
      "0.216 0.874 one like -> can\n",
      "0.216 0.612 can -> one like\n",
      "0.216 0.815 can like -> one\n",
      "0.216 0.637 like -> one can\n",
      "0.218 0.687 one -> know\n",
      "0.218 0.763 know -> one\n",
      "0.247 0.780 one -> like\n",
      "0.247 0.728 like -> one\n",
      "0.202 0.852 right -> like\n",
      "0.202 0.596 like -> right\n",
      "0.207 0.828 way -> can\n",
      "0.207 0.587 can -> way\n",
      "0.202 0.808 way -> like\n",
      "0.202 0.596 like -> way\n",
      "0.207 0.699 time -> get\n",
      "0.207 0.697 get -> time\n",
      "0.221 0.746 time -> just\n",
      "0.221 0.668 just -> time\n",
      "0.230 0.779 time -> can\n",
      "0.230 0.651 can -> time\n",
      "0.201 0.680 time -> can like\n",
      "0.201 0.873 time can -> like\n",
      "0.201 0.890 time like -> can\n",
      "0.201 0.569 can -> time like\n",
      "0.201 0.757 can like -> time\n",
      "0.201 0.591 like -> time can\n",
      "0.203 0.688 time -> know\n",
      "0.203 0.712 know -> time\n",
      "0.226 0.763 time -> like\n",
      "0.226 0.664 like -> time\n",
      "0.209 0.853 see -> can\n",
      "0.209 0.591 can -> see\n",
      "0.207 0.845 see -> like\n",
      "0.207 0.609 like -> see\n",
      "0.226 0.761 get -> just\n",
      "0.226 0.684 just -> get\n",
      "0.205 0.691 get -> just like\n",
      "0.205 0.909 get just -> like\n",
      "0.205 0.892 get like -> just\n",
      "0.205 0.621 just -> get like\n",
      "0.205 0.793 just like -> get\n",
      "0.205 0.604 like -> get just\n",
      "0.234 0.790 get -> can\n",
      "0.234 0.663 can -> get\n",
      "0.208 0.701 get -> can like\n",
      "0.208 0.888 get can -> like\n",
      "0.208 0.905 get like -> can\n",
      "0.208 0.589 can -> get like\n",
      "0.208 0.785 can like -> get\n",
      "0.208 0.613 like -> get can\n",
      "0.211 0.713 get -> know\n",
      "0.211 0.740 know -> get\n",
      "0.230 0.775 get -> like\n",
      "0.230 0.677 like -> get\n",
      "0.204 0.617 just -> people\n",
      "0.204 0.790 people -> just\n",
      "0.251 0.761 just -> can\n",
      "0.251 0.711 can -> just\n",
      "0.203 0.615 just -> can know\n",
      "0.203 0.808 just can -> know\n",
      "0.203 0.889 just know -> can\n",
      "0.203 0.575 can -> just know\n",
      "0.203 0.871 can know -> just\n",
      "0.203 0.711 know -> just can\n",
      "0.225 0.683 just -> can like\n",
      "0.225 0.897 just can -> like\n",
      "0.225 0.872 just like -> can\n",
      "0.225 0.638 can -> just like\n",
      "0.225 0.850 can like -> just\n",
      "0.225 0.664 like -> just can\n",
      "0.228 0.692 just -> know\n",
      "0.228 0.800 know -> just\n",
      "0.207 0.626 just -> know like\n",
      "0.207 0.905 just know -> like\n",
      "0.207 0.800 just like -> know\n",
      "0.207 0.724 know -> just like\n",
      "0.207 0.893 know like -> just\n",
      "0.207 0.609 like -> just know\n",
      "0.202 0.612 just -> go\n",
      "0.202 0.820 go -> just\n",
      "0.258 0.783 just -> like\n",
      "0.258 0.761 like -> just\n",
      "0.207 0.805 people -> can\n",
      "0.207 0.588 can -> people\n",
      "0.207 0.805 people -> like\n",
      "0.207 0.611 like -> people\n",
      "0.233 0.660 can -> know\n",
      "0.233 0.817 know -> can\n",
      "0.208 0.588 can -> know like\n",
      "0.208 0.891 can know -> like\n",
      "0.208 0.784 can like -> know\n",
      "0.208 0.728 know -> can like\n",
      "0.208 0.898 know like -> can\n",
      "0.208 0.612 like -> can know\n",
      "0.206 0.582 can -> will\n",
      "0.206 0.801 will -> can\n",
      "0.265 0.751 can -> like\n",
      "0.265 0.781 like -> can\n",
      "0.231 0.811 know -> like\n",
      "0.231 0.682 like -> know\n",
      "0.202 0.819 go -> like\n",
      "0.202 0.594 like -> go\n"
     ]
    },
    {
     "data": {
      "text/plain": [
       "<make -> can, can -> make, one -> time, time -> one, one -> get, get -> one, one -> just, just -> one, one -> just can, one just -> can, one can -> just, just -> one can, just can -> one, can -> one just, one -> just like, one just -> like, one like -> just, just -> one like, just like -> one, like -> one just, one -> can, can -> one, one -> can like, one can -> like, one like -> can, can -> one like, can like -> one, like -> one can, one -> know, know -> one, one -> like, like -> one, right -> like, like -> right, way -> can, can -> way, way -> like, like -> way, time -> get, get -> time, time -> just, just -> time, time -> can, can -> time, time -> can like, time can -> like, time like -> can, can -> time like, can like -> time, like -> time can, time -> know, know -> time, time -> like, like -> time, see -> can, can -> see, see -> like, like -> see, get -> just, just -> get, get -> just like, get just -> like, get like -> just, just -> get like, just like -> get, like -> get just, get -> can, can -> get, get -> can like, get can -> like, get like -> can, can -> get like, can like -> get, like -> get can, get -> know, know -> get, get -> like, like -> get, just -> people, people -> just, just -> can, can -> just, just -> can know, just can -> know, just know -> can, can -> just know, can know -> just, know -> just can, just -> can like, just can -> like, just like -> can, can -> just like, can like -> just, like -> just can, just -> know, know -> just, just -> know like, just know -> like, just like -> know, know -> just like, know like -> just, like -> just know, just -> go, go -> just, just -> like, like -> just, people -> can, can -> people, people -> like, like -> people, can -> know, know -> can, can -> know like, can know -> like, can like -> know, know -> can like, know like -> can, like -> can know, can -> will, will -> can, can -> like, like -> can, know -> like, like -> know, go -> like, like -> go>"
      ]
     },
     "execution_count": 17,
     "metadata": {},
     "output_type": "execute_result"
    }
   ],
   "source": [
    "data = Orange.data.Table(\"videowords.basket\")\n",
    "\n",
    "rules = Orange.associate.AssociationRulesSparseInducer(data, support=0.2)\n",
    "print \"%4s %4s  %s\" % (\"Supp\", \"Conf\", \"Rule\")\n",
    "for r in rules:\n",
    "    print \"%5.3f %5.3f %s\" % (r.support, r.confidence, r)\n",
    "rules"
   ]
  }
 ],
 "metadata": {
  "anaconda-cloud": {},
  "kernelspec": {
   "display_name": "Python [conda env:dataexploration27]",
   "language": "python",
   "name": "conda-env-dataexploration27-py"
  },
  "language_info": {
   "codemirror_mode": {
    "name": "ipython",
    "version": 2
   },
   "file_extension": ".py",
   "mimetype": "text/x-python",
   "name": "python",
   "nbconvert_exporter": "python",
   "pygments_lexer": "ipython2",
   "version": "2.7.12"
  }
 },
 "nbformat": 4,
 "nbformat_minor": 1
}
