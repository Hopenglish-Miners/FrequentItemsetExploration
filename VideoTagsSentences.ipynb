{
 "cells": [
  {
   "cell_type": "code",
   "execution_count": 39,
   "metadata": {
    "collapsed": false
   },
   "outputs": [
    {
     "name": "stdout",
     "output_type": "stream",
     "text": [
      " Original videos: 235\n",
      "Scraped videos in original: 0\n",
      "Scraped videos not in original: 4288\n"
     ]
    }
   ],
   "source": [
    "import pandas as pd\n",
    "import urllib2\n",
    "import time\n",
    "\n",
    "originalVideoData = pd.read_json(\"videoData_vs_WordList.json\", orient=\"index\")\n",
    "lenOriginalVideoData = len(pd.read_json(\"videoData_vs_WordList.json\"))\n",
    "originalVideoIds = []\n",
    "\n",
    "textFileOriginalVideoIds = open(\"originalVideoIds.txt\", \"w\")\n",
    "\n",
    "for i in range(lenOriginalVideoData):\n",
    "    textFileOriginalVideoIds.write(originalVideoData[i][\"postId\"])\n",
    "    textFileOriginalVideoIds.write(\", \\n\")\n",
    "    originalVideoIds.append(int(originalVideoData[i][\"postId\"]))\n",
    "\n",
    "textFileOriginalVideoIds.close()\n",
    "    \n",
    "videoTags = pd.read_json(\"video_tags.json\", orient=\"index\")\n",
    "\n",
    "lenVideoTags = len(pd.read_json(\"video_tags.json\"))\n",
    "\n",
    "videoTagsInOriginal = []\n",
    "videoTagsNotInOriginal = []\n",
    "\n",
    "textFileVideoTagsInOriginal = open(\"videoTagsInOriginal.txt\", \"w\")\n",
    "textFileVideoTagsNotInOriginal = open(\"videoTagsNotInOriginal.txt\", \"w\")\n",
    "\n",
    "for i in range(lenVideoTags):\n",
    "    checkVideoId = videoTags[i][\"videos\"][\"postId\"]\n",
    "    if checkVideoId in originalVideoIds:\n",
    "        textFileVideoTagsInOriginal.write(str(checkVideoId))\n",
    "        textFileVideoTagsInOriginal.write(\", \\n\")\n",
    "        videoTagsInOriginal.append(checkVideoId)\n",
    "    else:\n",
    "        textFileVideoTagsNotInOriginal.write(str(checkVideoId))\n",
    "        textFileVideoTagsNotInOriginal.write(\", \\n\")\n",
    "        videoTagsNotInOriginal.append(checkVideoId)\n",
    "\n",
    "\n",
    "textFileVideoTagsInOriginal.close()\n",
    "textFileVideoTagsNotInOriginal.close()\n",
    "\n",
    "print \"Original videos:\", len(originalVideoIds)\n",
    "print \"Scraped videos in original:\", len(videoTagsInOriginal)\n",
    "print \"Scraped videos not in original:\", len(videoTagsNotInOriginal)\n",
    "\n",
    "\n",
    "\n"
   ]
  },
  {
   "cell_type": "code",
   "execution_count": null,
   "metadata": {
    "collapsed": false
   },
   "outputs": [],
   "source": [
    "\n"
   ]
  }
 ],
 "metadata": {
  "anaconda-cloud": {},
  "kernelspec": {
   "display_name": "Python [conda env:dataexploration27]",
   "language": "python",
   "name": "conda-env-dataexploration27-py"
  },
  "language_info": {
   "codemirror_mode": {
    "name": "ipython",
    "version": 2
   },
   "file_extension": ".py",
   "mimetype": "text/x-python",
   "name": "python",
   "nbconvert_exporter": "python",
   "pygments_lexer": "ipython2",
   "version": "2.7.12"
  }
 },
 "nbformat": 4,
 "nbformat_minor": 1
}
